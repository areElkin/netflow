{
 "cells": [
  {
   "cell_type": "markdown",
   "id": "29989051-ea7c-4d60-a442-fb06c4424235",
   "metadata": {},
   "source": [
    "Keeper tutorial"
   ]
  },
  {
   "cell_type": "markdown",
   "id": "539af752-a16b-43a1-8215-c39c17e216bd",
   "metadata": {},
   "source": [
    "The primary data structure used in `netflow` is called a `Keeper`. It is used to load, store, manipulate and save data for a set of observations. In particular, there are several specific types of keepers:\n",
    "\n",
    "- `DataKeeper` : handles feature data\n",
    "- `DistanceKeeper` : handles pairwise-observation distances (also used to handle pairwise observation similarities)\n",
    "- `GraphKeeper` : handles graphs (networks)\n",
    "\n",
    "Interacting with `netflow` will primarily entail making use of the predomenent `Keeper`, which implicitly makes use of the aforementioned specific keeper classes. This tutorial therefore focuses on the `Keeper` class, please see the documentation for more detail on the other Keeper classes. \n",
    "\n",
    "Data is organized in the `Keeper` class via the following attributes:\n",
    "\n",
    "- `self.oudir` : (directory path) : Path to directory where results will be saved.\n",
    "    - If not provided, no results can be saved.\n",
    "- `self.observation_labels` : (`list`) Observation labels are kept consistent across all feature data, distances and similarities.\n",
    "- `self.data` : (`DataKeeper`) Used to handle all feature data.\n",
    "- `self.distances` : (`DistanceKeeper`) Used to handle all observation-pairwise distances.\n",
    "- `self.similarities` : (`DistanceKeeper`) Used to handle all observation-pairwise similarities.\n",
    "- `self.graphs` : (`GraphKeeper`) Used to handle all graphs.\n",
    "- `self.misc` : (`dict`) Used to handle any miscellaneous data. \n",
    "    - Caution should be taken as observation labels and/or ordering of data stored in `self.misc` may not be consistent with the observations as tracked by the `Keeper`.\n",
    "\n",
    "We will now walk through some use-cases of how to make use of the `Keeper` class."
   ]
  },
  {
   "cell_type": "markdown",
   "id": "28099729-bd14-4b3a-9c08-f029482d5df7",
   "metadata": {},
   "source": [
    "First, import the necessary packages:"
   ]
  },
  {
   "cell_type": "markdown",
   "id": "f994f736-ca88-43d8-bd70-44005fd29592",
   "metadata": {},
   "source": [
    "# Load libraries "
   ]
  },
  {
   "cell_type": "code",
   "execution_count": 1,
   "id": "379c16e0-418e-46c3-85cf-5ee3b52f58cf",
   "metadata": {},
   "outputs": [],
   "source": [
    "import pathlib\n",
    "import sys\n",
    "\n",
    "from collections import defaultdict as ddict\n",
    "import itertools\n",
    "import matplotlib.pyplot as plt\n",
    "import networkx as nx\n",
    "import numpy as np\n",
    "import pandas as pd\n",
    "import scipy.sparse as sc_sparse\n",
    "from tqdm import tqdm"
   ]
  },
  {
   "cell_type": "markdown",
   "id": "a8c92cca-8e3a-4f6f-b07a-6bc7a9caf5d4",
   "metadata": {},
   "source": [
    "If ``netflow`` has not been installed, add the path to the library:"
   ]
  },
  {
   "cell_type": "code",
   "execution_count": 3,
   "id": "3967f36c-d33a-4fa0-9060-059f01982074",
   "metadata": {},
   "outputs": [],
   "source": [
    "sys.path.insert(0, pathlib.Path(pathlib.Path('.').absolute()).parents[3].resolve().as_posix())\n",
    "# sys.path.insert(0, pathlib.Path(pathlib.Path('.').absolute()).parents[0].resolve().as_posix())"
   ]
  },
  {
   "cell_type": "markdown",
   "id": "29c246ce-d1dc-4392-8686-62d77a9c9295",
   "metadata": {},
   "source": [
    "From the ``netflow`` package, we load the following modules:\n",
    " - The ``InfoNet`` class is used to compute 1-hop neighborhood distances\n",
    " - The ``Keeper`` class is used to store and manipulate data/results"
   ]
  },
  {
   "cell_type": "code",
   "execution_count": 4,
   "id": "5b9f724f-13fa-4cab-bcc2-33b2698b1caf",
   "metadata": {},
   "outputs": [],
   "source": [
    "import netflow as nf\n",
    "\n",
    "# from netflow.keepers import keeper "
   ]
  },
  {
   "cell_type": "markdown",
   "id": "c377c3dc-d66d-417d-9da5-3e41e5e9882d",
   "metadata": {},
   "source": [
    "# Set up directories"
   ]
  },
  {
   "cell_type": "code",
   "execution_count": 5,
   "id": "672bd1c1-7153-4db3-b7a3-3e686ce76c9a",
   "metadata": {},
   "outputs": [],
   "source": [
    "MAIN_DIR = pathlib.Path('.').absolute()"
   ]
  },
  {
   "cell_type": "markdown",
   "id": "ec4a2415-0a6f-481f-bc2c-14cc4b23f210",
   "metadata": {},
   "source": [
    "Paths to where data is stored:"
   ]
  },
  {
   "cell_type": "code",
   "execution_count": 6,
   "id": "e86e42a8-fcf3-4732-b93e-343dd1cbb38e",
   "metadata": {},
   "outputs": [],
   "source": [
    "DATA_DIR = MAIN_DIR / 'example_data' / 'breast_tcga'\n",
    "\n",
    "RNA_FNAME = DATA_DIR / 'rna_606.txt'\n",
    "E_RNA_FNAME = DATA_DIR / 'edgelist_hprd_rna_606.txt'\n",
    "\n",
    "CNA_FNAME = DATA_DIR / 'cna_606.txt'\n",
    "E_CNA_FNAME = DATA_DIR / 'edgelist_hprd_cna_606.txt'\n",
    "\n",
    "METH_FNAME = DATA_DIR / 'methylation_606.txt'\n",
    "E_METH_FNAME = DATA_DIR / 'edgelist_hprd_methylation_606.txt'\n",
    "\n",
    "CLIN_FNAME = DATA_DIR / 'clin_606.txt'"
   ]
  },
  {
   "cell_type": "markdown",
   "id": "5aa0e88c-1d2f-410c-9af3-8f311c6fc482",
   "metadata": {},
   "source": [
    "Directory where output should be saved:"
   ]
  },
  {
   "cell_type": "code",
   "execution_count": 7,
   "id": "57c62445-d73b-4225-aa08-71aa81f16985",
   "metadata": {},
   "outputs": [],
   "source": [
    "OUT_DIR = MAIN_DIR / 'example_data' / 'results_netflow_breast_tcga'"
   ]
  },
  {
   "cell_type": "markdown",
   "id": "3b383f2a-5a4e-466d-804a-d63b234cb552",
   "metadata": {},
   "source": [
    "# Load data"
   ]
  }
 ],
 "metadata": {
  "kernelspec": {
   "display_name": "Python [conda env:geo_env_test] *",
   "language": "python",
   "name": "conda-env-geo_env_test-py"
  },
  "language_info": {
   "codemirror_mode": {
    "name": "ipython",
    "version": 3
   },
   "file_extension": ".py",
   "mimetype": "text/x-python",
   "name": "python",
   "nbconvert_exporter": "python",
   "pygments_lexer": "ipython3",
   "version": "3.9.0"
  }
 },
 "nbformat": 4,
 "nbformat_minor": 5
}
