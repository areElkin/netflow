{
 "cells": [
  {
   "cell_type": "markdown",
   "id": "f8770706-0b33-4e16-a087-ab339b402f30",
   "metadata": {},
   "source": [
    "# POSE pipeline"
   ]
  },
  {
   "cell_type": "markdown",
   "id": "d44ee8a9-38a7-4aad-89c2-47287954d0e2",
   "metadata": {},
   "source": [
    "(Single-modal) In this tutorial, we demonstrate how to perform the POSE pipeline on multiple myeloma (MM) RNA data restricted to the apoptosis pathway. This analysis entails the following:\n",
    "\n",
    "1. Upload data\n",
    "2. Compute pairwise sample (WE) distances with respect to gene neigborhoods \n",
    "3. Compute global pairwise sample (WE) distance matrices\n",
    "4. Convert global distances to a single sample pairwise similarity matrix\n",
    "5. (Future work - dpt distance and/or multi-scale diffusion based distances)\n",
    "6. Extract pseudo-organization (i.e., ordering) of samples.\n",
    "7. Determine schema (i.e., branching).\n",
    "8. Visualize schema\n",
    "9. (Future work - further investigation into samples within different branches and differential analysis between branches)\n",
    "\n",
    "- $d_W(i,j,v)$ - The Wasserstein distance of the 1-hop neighborhood around gene $v$ between sample $i$ and sample $j$\n",
    "- $d_E(i,j,v)$ - The Euclidean distance of the 1-hop neighborhood around gene $v$ between sample $i$ and sample $j$\n",
    "- $D_W(i,j) = |d_W(i,j,v)|$ - Net Wasserstein distance between sample $i$ and sample $j$ wrt all genes $v$\n",
    "- $D_E(i,j) = |d_E(i,j,v)|$ - Net Euclidean distance between sample $i$ and sample $j$ wrt all genes $v$\n",
    "- $K_W = e^{-\\frac{\\|D_W\\|^2}{\\sigma^2}}$ - Pairwise sample Wasserstein similarity matrix \n",
    "- $K_E = e^{-\\frac{\\|D_E\\|^2}{\\sigma^2}}$ - Pairwise sample Euclidean similarity matrix \n",
    "- (Multi-feature, multi-modal) $K = \\frac{K_W + K_E}{2}$ - Fused pairwise sample similarity matrix\n",
    "- $D = 1 - K$ - Fused pairwise sample distance matrix\n",
    "- (Clustering) Determine branching according to lineage tracing algorithm using $D$ \n",
    "- (Visualizing) Pseudo-ordering of samples in branches according to distance from root node $r$, i.e., $D(r,:)$"
   ]
  },
  {
   "cell_type": "markdown",
   "id": "d20a4dbb-db02-4c87-aab8-7e6dced91ba4",
   "metadata": {},
   "source": [
    "First, import the necessary packages:"
   ]
  },
  {
   "cell_type": "markdown",
   "id": "0df1c8d8-63d5-4035-bd66-9d9c1fbcb2e6",
   "metadata": {},
   "source": [
    "# Load libraries"
   ]
  },
  {
   "cell_type": "code",
   "execution_count": 1,
   "id": "8540d6ad-1032-468a-a103-10ab35a97de0",
   "metadata": {},
   "outputs": [],
   "source": [
    "import pathlib\n",
    "import sys\n",
    "\n",
    "import networkx as nx\n",
    "import numpy as np\n",
    "import pandas as pd"
   ]
  },
  {
   "cell_type": "markdown",
   "id": "d06bbd95-7b76-42ee-917f-51950a0c331f",
   "metadata": {},
   "source": [
    "If ``netflow`` has not been installed, add the path to the library:"
   ]
  },
  {
   "cell_type": "code",
   "execution_count": 2,
   "id": "a1044eec-5973-4df1-99ac-f0308f9ca1ce",
   "metadata": {},
   "outputs": [],
   "source": [
    "sys.path.insert(0, pathlib.Path(pathlib.Path('.').absolute()).parents[3].resolve().as_posix())\n",
    "# sys.path.insert(0, pathlib.Path(pathlib.Path('.').absolute()).parents[0].resolve().as_posix())"
   ]
  },
  {
   "cell_type": "markdown",
   "id": "39e5b8f3-dc53-4604-a215-e0140d3039fe",
   "metadata": {},
   "source": [
    "From the ``netflow`` package, we load the following modules:\n",
    " - The ``keepers`` module is used to store and manipulate data/results"
   ]
  },
  {
   "cell_type": "code",
   "execution_count": 3,
   "id": "e531bfbb-b78b-445c-bd0c-45dd0e86bbc9",
   "metadata": {},
   "outputs": [],
   "source": [
    "from netflow.keepers import keeper "
   ]
  },
  {
   "cell_type": "markdown",
   "id": "a9c0f8d1-0346-45ca-ae88-8aed1ca2029c",
   "metadata": {},
   "source": [
    "# Load data"
   ]
  },
  {
   "cell_type": "code",
   "execution_count": 4,
   "id": "2d667e58-ac4c-4fd2-80d2-1bb3f8800f6c",
   "metadata": {},
   "outputs": [],
   "source": [
    "RNA_FNAME = '/Users/renae12/Library/CloudStorage/OneDrive-MemorialSloanKetteringCancerCenter/!GDriveMigratedData/My Documents/MSKCC/data/multiple_myeloma_apoptosis_ASK/data/rna_hgnc_apop140_660.csv'\n",
    "E_FNAME = '/Users/renae12/Library/CloudStorage/OneDrive-MemorialSloanKetteringCancerCenter/!GDriveMigratedData/My Documents/MSKCC/data/multiple_myeloma_apoptosis_ASK/data/E_apop140.csv'"
   ]
  },
  {
   "cell_type": "code",
   "execution_count": 5,
   "id": "a5587bd4-ca86-41f0-87ee-d54b29f86688",
   "metadata": {},
   "outputs": [
    {
     "name": "stdout",
     "output_type": "stream",
     "text": [
      "(140, 669)\n"
     ]
    }
   ],
   "source": [
    "X = pd.read_csv(RNA_FNAME, header=0, index_col=0)\n",
    "print(X.shape)"
   ]
  },
  {
   "cell_type": "code",
   "execution_count": 6,
   "id": "2ab3de96-314a-4549-8067-8c87b63a9195",
   "metadata": {},
   "outputs": [
    {
     "name": "stdout",
     "output_type": "stream",
     "text": [
      "Graph with 140 nodes and 672 edges\n"
     ]
    }
   ],
   "source": [
    "E = pd.read_csv(E_FNAME, header=0)\n",
    "G = nx.from_pandas_edgelist(E)\n",
    "print(G)"
   ]
  },
  {
   "cell_type": "markdown",
   "id": "1ac07fe8-a761-4e07-9d6b-7b530b969c1a",
   "metadata": {},
   "source": [
    "Upload data to the keeper:"
   ]
  },
  {
   "cell_type": "code",
   "execution_count": 7,
   "id": "eb9ab6ce-ba1c-4e4d-b4b1-41e76eae9c02",
   "metadata": {},
   "outputs": [],
   "source": [
    "results = keeper.Keeper(data={'rna': X})\n",
    "results._check_observation_labels()\n",
    "results._check_num_observations()"
   ]
  },
  {
   "cell_type": "markdown",
   "id": "c81f91dd-4012-4506-a128-6f2824b8a559",
   "metadata": {},
   "source": [
    "Add the PPI network to the misc data for storage and later reference."
   ]
  },
  {
   "cell_type": "code",
   "execution_count": 8,
   "id": "3a2cf408-d12c-41ad-9726-62904b3c0a93",
   "metadata": {},
   "outputs": [],
   "source": [
    "results.add_misc(G, 'PPI')"
   ]
  },
  {
   "cell_type": "markdown",
   "id": "2d01ebc8-d1a5-4fde-ae73-da40552cd3fb",
   "metadata": {},
   "source": [
    "# Compute pairwise-sample 1-hop Wasserstein distances"
   ]
  },
  {
   "cell_type": "code",
   "execution_count": null,
   "id": "eda0500c-2b99-412a-9a2e-4a2a4b5d4f47",
   "metadata": {},
   "outputs": [],
   "source": []
  },
  {
   "cell_type": "markdown",
   "id": "7ef36b10-3764-4e3c-97a2-dbd834155aaf",
   "metadata": {},
   "source": [
    "# Compute pairwise-sample 1-hop Euclidean distances"
   ]
  },
  {
   "cell_type": "code",
   "execution_count": null,
   "id": "d71bd1a3-510b-4b8f-b22b-e7c0886970ac",
   "metadata": {},
   "outputs": [],
   "source": []
  },
  {
   "cell_type": "markdown",
   "id": "755d96a9-17f9-4ef4-8cf5-3ccfeba26f55",
   "metadata": {},
   "source": [
    "# Compute pairwise-sample profile Wasserstein distances"
   ]
  },
  {
   "cell_type": "code",
   "execution_count": null,
   "id": "6a56370c-02a4-465d-a70f-d9e4b05bcdae",
   "metadata": {},
   "outputs": [],
   "source": []
  },
  {
   "cell_type": "markdown",
   "id": "b80934f7-6ef8-4401-97b0-2c20d4eb4906",
   "metadata": {},
   "source": [
    "# Compute pairwise-sample profile Euclidean distances"
   ]
  },
  {
   "cell_type": "code",
   "execution_count": null,
   "id": "cf04f39c-ceb8-40f4-bb20-9c6136ac582d",
   "metadata": {},
   "outputs": [],
   "source": []
  }
 ],
 "metadata": {
  "kernelspec": {
   "display_name": "geo_env_test",
   "language": "python",
   "name": "geo_env_test"
  },
  "language_info": {
   "codemirror_mode": {
    "name": "ipython",
    "version": 3
   },
   "file_extension": ".py",
   "mimetype": "text/x-python",
   "name": "python",
   "nbconvert_exporter": "python",
   "pygments_lexer": "ipython3",
   "version": "3.9.0"
  }
 },
 "nbformat": 4,
 "nbformat_minor": 5
}
