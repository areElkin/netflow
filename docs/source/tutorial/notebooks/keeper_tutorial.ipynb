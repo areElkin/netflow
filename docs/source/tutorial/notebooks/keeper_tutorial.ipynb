{
 "cells": [
  {
   "cell_type": "markdown",
   "id": "f8770706-0b33-4e16-a087-ab339b402f30",
   "metadata": {},
   "source": [
    "# Keeper tutorial"
   ]
  },
  {
   "cell_type": "markdown",
   "id": "d44ee8a9-38a7-4aad-89c2-47287954d0e2",
   "metadata": {},
   "source": [
    "The primary data structure used in `netflow` is called a `Keeper`. It is used to load, store, manipulate and save data for a set of observations. In particular, there are several specific types of keepers:\n",
    "\n",
    "- `DataKeeper` : handles feature data\n",
    "- `DistanceKeeper` : handles pairwise-observation distances (also used to handle pairwise observation similarities)\n",
    "- `GraphKeeper` : handles graphs (networks)\n",
    "\n",
    "Interacting with `netflow` will primarily entail making use of the predomenent `Keeper`, which implicitly makes use of the aforementioned specific keeper classes. This tutorial therefore focuses on the `Keeper` class, please see the documentation for more detail on the other Keeper classes. \n",
    "\n",
    "Data is organized in the `Keeper` class via the following attributes:\n",
    "\n",
    "- `self.oudir` : (directory path) : Path to directory where results will be saved.\n",
    "    - If not provided, no results can be saved.\n",
    "- `self.observation_labels` : (`list`) Observation labels are kept consistent across all feature data, distances and similarities.\n",
    "- `self.data` : (`DataKeeper`) Used to handle all feature data.\n",
    "- `self.distances` : (`DistanceKeeper`) Used to handle all observation-pairwise distances.\n",
    "- `self.similarities` : (`DistanceKeeper`) Used to handle all observation-pairwise similarities.\n",
    "- `self.graphs` : (`GraphKeeper`) Used to handle all graphs.\n",
    "- `self.misc` : (`dict`) Used to handle any miscellaneous data. \n",
    "    - Caution should be taken as observation labels and/or ordering of data stored in `self.misc` may not be consistent with the observations as tracked by the `Keeper`.\n",
    "\n",
    "We will now walk through some use-cases of how to make use of the `Keeper` class."
   ]
  },
  {
   "cell_type": "markdown",
   "id": "d20a4dbb-db02-4c87-aab8-7e6dced91ba4",
   "metadata": {},
   "source": [
    "First, import the necessary packages:"
   ]
  },
  {
   "cell_type": "markdown",
   "id": "0df1c8d8-63d5-4035-bd66-9d9c1fbcb2e6",
   "metadata": {},
   "source": [
    "# Load libraries"
   ]
  },
  {
   "cell_type": "code",
   "execution_count": 36,
   "id": "8540d6ad-1032-468a-a103-10ab35a97de0",
   "metadata": {},
   "outputs": [],
   "source": [
    "import pathlib\n",
    "import sys\n",
    "\n",
    "from collections import defaultdict as ddict\n",
    "import itertools\n",
    "import matplotlib.pyplot as plt\n",
    "import networkx as nx\n",
    "import numpy as np\n",
    "import pandas as pd\n",
    "import scipy.sparse as sc_sparse\n",
    "from tqdm import tqdm"
   ]
  },
  {
   "cell_type": "markdown",
   "id": "d06bbd95-7b76-42ee-917f-51950a0c331f",
   "metadata": {},
   "source": [
    "If ``netflow`` has not been installed, add the path to the library:"
   ]
  },
  {
   "cell_type": "code",
   "execution_count": 37,
   "id": "a1044eec-5973-4df1-99ac-f0308f9ca1ce",
   "metadata": {},
   "outputs": [],
   "source": [
    "sys.path.insert(0, pathlib.Path(pathlib.Path('.').absolute()).parents[3].resolve().as_posix())\n",
    "# sys.path.insert(0, pathlib.Path(pathlib.Path('.').absolute()).parents[0].resolve().as_posix())"
   ]
  },
  {
   "cell_type": "markdown",
   "id": "39e5b8f3-dc53-4604-a215-e0140d3039fe",
   "metadata": {},
   "source": [
    "From the ``netflow`` package, we load the following modules:\n",
    " - The ``InfoNet`` class is used to compute 1-hop neighborhood distances\n",
    " - The ``Keeper`` class is used to store and manipulate data/results"
   ]
  },
  {
   "cell_type": "code",
   "execution_count": 38,
   "id": "6d88da91-52a2-42da-9f39-3356b9f01691",
   "metadata": {},
   "outputs": [],
   "source": [
    "import netflow as nf\n",
    "\n",
    "# from netflow.keepers import keeper "
   ]
  },
  {
   "cell_type": "markdown",
   "id": "c0c88311-56e0-42e3-99e2-f69075dbe9d6",
   "metadata": {},
   "source": [
    "# Set up directories"
   ]
  },
  {
   "cell_type": "code",
   "execution_count": 39,
   "id": "03af6966-61d4-4bb5-ae64-a6fc9e028282",
   "metadata": {},
   "outputs": [],
   "source": [
    "MAIN_DIR = pathlib.Path('.').absolute()"
   ]
  },
  {
   "cell_type": "markdown",
   "id": "1ebeae8f-082b-483f-a481-50bedd139943",
   "metadata": {},
   "source": [
    "Paths to where data is stored:"
   ]
  },
  {
   "cell_type": "code",
   "execution_count": 40,
   "id": "2eb1cf17-7d49-44b2-9914-ae4ac997c51c",
   "metadata": {},
   "outputs": [],
   "source": [
    "DATA_DIR = MAIN_DIR / 'example_data' / 'breast_tcga'\n",
    "\n",
    "RNA_FNAME = DATA_DIR / 'rna_606.txt'\n",
    "E_RNA_FNAME = DATA_DIR / 'edgelist_hprd_rna_606.txt'\n",
    "\n",
    "CNA_FNAME = DATA_DIR / 'cna_606.txt'\n",
    "E_CNA_FNAME = DATA_DIR / 'edgelist_hprd_cna_606.txt'\n",
    "\n",
    "METH_FNAME = DATA_DIR / 'methylation_606.txt'\n",
    "E_METH_FNAME = DATA_DIR / 'edgelist_hprd_methylation_606.txt'\n",
    "\n",
    "CLIN_FNAME = DATA_DIR / 'clin_606.txt'"
   ]
  },
  {
   "cell_type": "markdown",
   "id": "164e41c1-3407-4983-b31f-74d9ec5701e4",
   "metadata": {},
   "source": [
    "Directory where output should be saved:"
   ]
  },
  {
   "cell_type": "code",
   "execution_count": 41,
   "id": "2959b849-da29-435e-8de5-4505afe3374a",
   "metadata": {},
   "outputs": [],
   "source": [
    "OUT_DIR = MAIN_DIR / 'example_data' / 'results_netflow_breast_tcga'"
   ]
  },
  {
   "cell_type": "markdown",
   "id": "c4a98f8b-a38d-457b-9e72-ec3b4eebd61d",
   "metadata": {},
   "source": [
    "# Load data"
   ]
  },
  {
   "cell_type": "markdown",
   "id": "71b70d1c-3969-473e-99e0-d3ac6a8f8b87",
   "metadata": {},
   "source": [
    "We first load example TCGA breast cancer data that will be used to demonstrate how data can be loaded into the `Keeper`.\n",
    "\n",
    "Sample inclusion criteria (n=606):\n",
    "- Restricted to \n",
    "    - Primary samples\n",
    "    - Cancer type: Breast Cancer\n",
    "    - Detailed cancer type: Breast Invasive Ductal Carcinoma (IDC) or  ",
    "Breast Invasive Lobular Carcinoma (ILC)\n",
    "- Has reported overall survival status\n",
    "- Overall survival > 3.5 months \n",
    "    - Note: distribution of age of patients excluded is similar to distribution of the age of all samples\n",
    "- Has reported PAM50 subtype\n",
    "- Has RNA, CNA and methylation data\n",
    "\n",
    "- Feature data:\n",
    "    - RNA (7,148 genes)\n",
    "        - Remove genes that have zero expression in at least 20% (=121) of samples\n",
    "        - When multiple Entrez IDs map to the same gene, use the sum\n",
    "        - Restrict to largest connected component of genes in HPRD\n",
    "    - CNA (8,763 genes)\n",
    "        - When multiple Entrez IDs map to the same gene, select the more extreme value (i.e., in absolute value). If the absolute values are the same, select the loss.\n",
    "        - Restrict to largest connected component of genes in HPRD\n",
    "        - Translate from [-2, 2] -> [0, 4]\n",
    "    - methylation (7,969 genes)        \n",
    "        - Missing rate is at most 5.12% - used nearest-neighbor imputation computed in Python using the scikit-learn `KNNImputer` with default parameters except `weights=“distance”`.\n",
    "        - When multiple Entrez IDs map to the same gene, select the max.\n",
    "        - Restrict to largest connected component of genes in HPRD\n",
    "- Network edgelists (derived from HPRD):\n",
    "    - RNA edgelist (7,148 nodes and 27,498 edges)\n",
    "    - CNA edgelist (8,763 nodes and 34,906 edges)\n",
    "    - methylation edgelist (7,969 nodes and 31,112 edges)"
   ]
  },
  {
   "cell_type": "code",
   "execution_count": 7,
   "id": "dfe0325a-ee35-4b18-acc7-caf5a8126cac",
   "metadata": {},
   "outputs": [
    {
     "name": "stdout",
     "output_type": "stream",
     "text": [
      "(7148, 606)\n"
     ]
    },
    {
     "data": {
      "text/html": [
       "<div>\n",
       "<style scoped>\n",
       "    .dataframe tbody tr th:only-of-type {\n",
       "        vertical-align: middle;\n",
       "    }\n",
       "\n",
       "    .dataframe tbody tr th {\n",
       "        vertical-align: top;\n",
       "    }\n",
       "\n",
       "    .dataframe thead th {\n",
       "        text-align: right;\n",
       "    }\n",
       "</style>\n",
       "<table border=\"1\" class=\"dataframe\">\n",
       "  <thead>\n",
       "    <tr style=\"text-align: right;\">\n",
       "      <th></th>\n",
       "      <th>TCGA-E9-A295-01</th>\n",
       "      <th>TCGA-AR-A1AS-01</th>\n",
       "      <th>TCGA-AQ-A1H2-01</th>\n",
       "      <th>TCGA-A8-A08O-01</th>\n",
       "      <th>TCGA-BH-A1FJ-01</th>\n",
       "      <th>TCGA-JL-A3YX-01</th>\n",
       "      <th>TCGA-A7-A425-01</th>\n",
       "      <th>TCGA-AC-A2BM-01</th>\n",
       "      <th>TCGA-LL-A6FP-01</th>\n",
       "      <th>TCGA-A7-A26E-01</th>\n",
       "      <th>...</th>\n",
       "      <th>TCGA-A2-A1G0-01</th>\n",
       "      <th>TCGA-WT-AB41-01</th>\n",
       "      <th>TCGA-EW-A1P6-01</th>\n",
       "      <th>TCGA-XX-A89A-01</th>\n",
       "      <th>TCGA-A7-A4SD-01</th>\n",
       "      <th>TCGA-AC-A6IX-01</th>\n",
       "      <th>TCGA-AR-A24L-01</th>\n",
       "      <th>TCGA-BH-A42U-01</th>\n",
       "      <th>TCGA-AR-A24S-01</th>\n",
       "      <th>TCGA-BH-A0BC-01</th>\n",
       "    </tr>\n",
       "  </thead>\n",
       "  <tbody>\n",
       "    <tr>\n",
       "      <th>ABCB8</th>\n",
       "      <td>910.2982</td>\n",
       "      <td>624.0432</td>\n",
       "      <td>422.2278</td>\n",
       "      <td>659.3773</td>\n",
       "      <td>836.3215</td>\n",
       "      <td>1202.2298</td>\n",
       "      <td>1264.0832</td>\n",
       "      <td>759.0133</td>\n",
       "      <td>2768.8172</td>\n",
       "      <td>560.3929</td>\n",
       "      <td>...</td>\n",
       "      <td>840.2367</td>\n",
       "      <td>1074.9211</td>\n",
       "      <td>769.4139</td>\n",
       "      <td>922.0595</td>\n",
       "      <td>597.0149</td>\n",
       "      <td>863.0025</td>\n",
       "      <td>451.0316</td>\n",
       "      <td>795.7087</td>\n",
       "      <td>606.1712</td>\n",
       "      <td>950.1840</td>\n",
       "    </tr>\n",
       "    <tr>\n",
       "      <th>SAT1</th>\n",
       "      <td>2727.0313</td>\n",
       "      <td>2731.2022</td>\n",
       "      <td>3701.4551</td>\n",
       "      <td>2259.7105</td>\n",
       "      <td>3085.1455</td>\n",
       "      <td>3915.4537</td>\n",
       "      <td>3230.3552</td>\n",
       "      <td>2042.0907</td>\n",
       "      <td>3258.4005</td>\n",
       "      <td>4837.8020</td>\n",
       "      <td>...</td>\n",
       "      <td>1728.7968</td>\n",
       "      <td>6252.3659</td>\n",
       "      <td>2843.2332</td>\n",
       "      <td>7392.0642</td>\n",
       "      <td>3602.4876</td>\n",
       "      <td>3878.9536</td>\n",
       "      <td>2552.8859</td>\n",
       "      <td>5193.3684</td>\n",
       "      <td>5891.7026</td>\n",
       "      <td>3594.8176</td>\n",
       "    </tr>\n",
       "  </tbody>\n",
       "</table>\n",
       "<p>2 rows × 606 columns</p>\n",
       "</div>"
      ],
      "text/plain": [
       "       TCGA-E9-A295-01  TCGA-AR-A1AS-01  TCGA-AQ-A1H2-01  TCGA-A8-A08O-01  \\\n",
       "ABCB8         910.2982         624.0432         422.2278         659.3773   \n",
       "SAT1         2727.0313        2731.2022        3701.4551        2259.7105   \n",
       "\n",
       "       TCGA-BH-A1FJ-01  TCGA-JL-A3YX-01  TCGA-A7-A425-01  TCGA-AC-A2BM-01  \\\n",
       "ABCB8         836.3215        1202.2298        1264.0832         759.0133   \n",
       "SAT1         3085.1455        3915.4537        3230.3552        2042.0907   \n",
       "\n",
       "       TCGA-LL-A6FP-01  TCGA-A7-A26E-01  ...  TCGA-A2-A1G0-01  \\\n",
       "ABCB8        2768.8172         560.3929  ...         840.2367   \n",
       "SAT1         3258.4005        4837.8020  ...        1728.7968   \n",
       "\n",
       "       TCGA-WT-AB41-01  TCGA-EW-A1P6-01  TCGA-XX-A89A-01  TCGA-A7-A4SD-01  \\\n",
       "ABCB8        1074.9211         769.4139         922.0595         597.0149   \n",
       "SAT1         6252.3659        2843.2332        7392.0642        3602.4876   \n",
       "\n",
       "       TCGA-AC-A6IX-01  TCGA-AR-A24L-01  TCGA-BH-A42U-01  TCGA-AR-A24S-01  \\\n",
       "ABCB8         863.0025         451.0316         795.7087         606.1712   \n",
       "SAT1         3878.9536        2552.8859        5193.3684        5891.7026   \n",
       "\n",
       "       TCGA-BH-A0BC-01  \n",
       "ABCB8         950.1840  \n",
       "SAT1         3594.8176  \n",
       "\n",
       "[2 rows x 606 columns]"
      ]
     },
     "metadata": {},
     "output_type": "display_data"
    }
   ],
   "source": [
    "rna = pd.read_csv(RNA_FNAME, header=0, index_col=0)\n",
    "print(rna.shape)\n",
    "\n",
    "display(rna.head(2))"
   ]
  },
  {
   "cell_type": "code",
   "execution_count": 8,
   "id": "1740712c-6727-4a28-a8aa-177843d5e0c3",
   "metadata": {},
   "outputs": [
    {
     "data": {
      "text/html": [
       "<div>\n",
       "<style scoped>\n",
       "    .dataframe tbody tr th:only-of-type {\n",
       "        vertical-align: middle;\n",
       "    }\n",
       "\n",
       "    .dataframe tbody tr th {\n",
       "        vertical-align: top;\n",
       "    }\n",
       "\n",
       "    .dataframe thead th {\n",
       "        text-align: right;\n",
       "    }\n",
       "</style>\n",
       "<table border=\"1\" class=\"dataframe\">\n",
       "  <thead>\n",
       "    <tr style=\"text-align: right;\">\n",
       "      <th></th>\n",
       "      <th>source</th>\n",
       "      <th>target</th>\n",
       "    </tr>\n",
       "  </thead>\n",
       "  <tbody>\n",
       "    <tr>\n",
       "      <th>0</th>\n",
       "      <td>ABCB8</td>\n",
       "      <td>SAT1</td>\n",
       "    </tr>\n",
       "    <tr>\n",
       "      <th>1</th>\n",
       "      <td>SAT1</td>\n",
       "      <td>APLP1</td>\n",
       "    </tr>\n",
       "  </tbody>\n",
       "</table>\n",
       "</div>"
      ],
      "text/plain": [
       "  source target\n",
       "0  ABCB8   SAT1\n",
       "1   SAT1  APLP1"
      ]
     },
     "metadata": {},
     "output_type": "display_data"
    },
    {
     "name": "stdout",
     "output_type": "stream",
     "text": [
      "Graph named 'rna' with 7148 nodes and 27498 edges\n"
     ]
    }
   ],
   "source": [
    "E_rna = pd.read_csv(E_RNA_FNAME, header=0)\n",
    "display(E_rna.head(2))\n",
    "\n",
    "G_rna = nx.from_pandas_edgelist(E_rna)\n",
    "G_rna.name = 'rna'\n",
    "print(G_rna)"
   ]
  },
  {
   "cell_type": "code",
   "execution_count": 9,
   "id": "0c405883-ca7b-41a9-8dff-ffc51742f5e8",
   "metadata": {},
   "outputs": [
    {
     "name": "stdout",
     "output_type": "stream",
     "text": [
      "(8763, 606)\n"
     ]
    },
    {
     "data": {
      "text/html": [
       "<div>\n",
       "<style scoped>\n",
       "    .dataframe tbody tr th:only-of-type {\n",
       "        vertical-align: middle;\n",
       "    }\n",
       "\n",
       "    .dataframe tbody tr th {\n",
       "        vertical-align: top;\n",
       "    }\n",
       "\n",
       "    .dataframe thead th {\n",
       "        text-align: right;\n",
       "    }\n",
       "</style>\n",
       "<table border=\"1\" class=\"dataframe\">\n",
       "  <thead>\n",
       "    <tr style=\"text-align: right;\">\n",
       "      <th></th>\n",
       "      <th>TCGA-E9-A295-01</th>\n",
       "      <th>TCGA-AR-A1AS-01</th>\n",
       "      <th>TCGA-AQ-A1H2-01</th>\n",
       "      <th>TCGA-A8-A08O-01</th>\n",
       "      <th>TCGA-BH-A1FJ-01</th>\n",
       "      <th>TCGA-JL-A3YX-01</th>\n",
       "      <th>TCGA-A7-A425-01</th>\n",
       "      <th>TCGA-AC-A2BM-01</th>\n",
       "      <th>TCGA-LL-A6FP-01</th>\n",
       "      <th>TCGA-A7-A26E-01</th>\n",
       "      <th>...</th>\n",
       "      <th>TCGA-A2-A1G0-01</th>\n",
       "      <th>TCGA-WT-AB41-01</th>\n",
       "      <th>TCGA-EW-A1P6-01</th>\n",
       "      <th>TCGA-XX-A89A-01</th>\n",
       "      <th>TCGA-A7-A4SD-01</th>\n",
       "      <th>TCGA-AC-A6IX-01</th>\n",
       "      <th>TCGA-AR-A24L-01</th>\n",
       "      <th>TCGA-BH-A42U-01</th>\n",
       "      <th>TCGA-AR-A24S-01</th>\n",
       "      <th>TCGA-BH-A0BC-01</th>\n",
       "    </tr>\n",
       "  </thead>\n",
       "  <tbody>\n",
       "    <tr>\n",
       "      <th>ABCB8</th>\n",
       "      <td>2</td>\n",
       "      <td>2</td>\n",
       "      <td>1</td>\n",
       "      <td>2</td>\n",
       "      <td>2</td>\n",
       "      <td>2</td>\n",
       "      <td>3</td>\n",
       "      <td>2</td>\n",
       "      <td>3</td>\n",
       "      <td>2</td>\n",
       "      <td>...</td>\n",
       "      <td>3</td>\n",
       "      <td>2</td>\n",
       "      <td>2</td>\n",
       "      <td>2</td>\n",
       "      <td>1</td>\n",
       "      <td>2</td>\n",
       "      <td>2</td>\n",
       "      <td>2</td>\n",
       "      <td>2</td>\n",
       "      <td>2</td>\n",
       "    </tr>\n",
       "    <tr>\n",
       "      <th>SAT1</th>\n",
       "      <td>2</td>\n",
       "      <td>2</td>\n",
       "      <td>1</td>\n",
       "      <td>1</td>\n",
       "      <td>2</td>\n",
       "      <td>1</td>\n",
       "      <td>2</td>\n",
       "      <td>1</td>\n",
       "      <td>2</td>\n",
       "      <td>2</td>\n",
       "      <td>...</td>\n",
       "      <td>3</td>\n",
       "      <td>2</td>\n",
       "      <td>2</td>\n",
       "      <td>1</td>\n",
       "      <td>1</td>\n",
       "      <td>2</td>\n",
       "      <td>2</td>\n",
       "      <td>2</td>\n",
       "      <td>2</td>\n",
       "      <td>2</td>\n",
       "    </tr>\n",
       "  </tbody>\n",
       "</table>\n",
       "<p>2 rows × 606 columns</p>\n",
       "</div>"
      ],
      "text/plain": [
       "       TCGA-E9-A295-01  TCGA-AR-A1AS-01  TCGA-AQ-A1H2-01  TCGA-A8-A08O-01  \\\n",
       "ABCB8                2                2                1                2   \n",
       "SAT1                 2                2                1                1   \n",
       "\n",
       "       TCGA-BH-A1FJ-01  TCGA-JL-A3YX-01  TCGA-A7-A425-01  TCGA-AC-A2BM-01  \\\n",
       "ABCB8                2                2                3                2   \n",
       "SAT1                 2                1                2                1   \n",
       "\n",
       "       TCGA-LL-A6FP-01  TCGA-A7-A26E-01  ...  TCGA-A2-A1G0-01  \\\n",
       "ABCB8                3                2  ...                3   \n",
       "SAT1                 2                2  ...                3   \n",
       "\n",
       "       TCGA-WT-AB41-01  TCGA-EW-A1P6-01  TCGA-XX-A89A-01  TCGA-A7-A4SD-01  \\\n",
       "ABCB8                2                2                2                1   \n",
       "SAT1                 2                2                1                1   \n",
       "\n",
       "       TCGA-AC-A6IX-01  TCGA-AR-A24L-01  TCGA-BH-A42U-01  TCGA-AR-A24S-01  \\\n",
       "ABCB8                2                2                2                2   \n",
       "SAT1                 2                2                2                2   \n",
       "\n",
       "       TCGA-BH-A0BC-01  \n",
       "ABCB8                2  \n",
       "SAT1                 2  \n",
       "\n",
       "[2 rows x 606 columns]"
      ]
     },
     "metadata": {},
     "output_type": "display_data"
    }
   ],
   "source": [
    "cna = pd.read_csv(CNA_FNAME, header=0, index_col=0)\n",
    "print(cna.shape)\n",
    "\n",
    "display(cna.head(2))"
   ]
  },
  {
   "cell_type": "code",
   "execution_count": 10,
   "id": "649bf620-a88a-4b1d-af08-3f001fa29343",
   "metadata": {},
   "outputs": [
    {
     "data": {
      "text/html": [
       "<div>\n",
       "<style scoped>\n",
       "    .dataframe tbody tr th:only-of-type {\n",
       "        vertical-align: middle;\n",
       "    }\n",
       "\n",
       "    .dataframe tbody tr th {\n",
       "        vertical-align: top;\n",
       "    }\n",
       "\n",
       "    .dataframe thead th {\n",
       "        text-align: right;\n",
       "    }\n",
       "</style>\n",
       "<table border=\"1\" class=\"dataframe\">\n",
       "  <thead>\n",
       "    <tr style=\"text-align: right;\">\n",
       "      <th></th>\n",
       "      <th>source</th>\n",
       "      <th>target</th>\n",
       "    </tr>\n",
       "  </thead>\n",
       "  <tbody>\n",
       "    <tr>\n",
       "      <th>0</th>\n",
       "      <td>ABCB8</td>\n",
       "      <td>SAT1</td>\n",
       "    </tr>\n",
       "    <tr>\n",
       "      <th>1</th>\n",
       "      <td>SAT1</td>\n",
       "      <td>APLP1</td>\n",
       "    </tr>\n",
       "  </tbody>\n",
       "</table>\n",
       "</div>"
      ],
      "text/plain": [
       "  source target\n",
       "0  ABCB8   SAT1\n",
       "1   SAT1  APLP1"
      ]
     },
     "metadata": {},
     "output_type": "display_data"
    },
    {
     "name": "stdout",
     "output_type": "stream",
     "text": [
      "Graph named 'cna' with 8763 nodes and 34906 edges\n"
     ]
    }
   ],
   "source": [
    "E_cna = pd.read_csv(E_CNA_FNAME, header=0)\n",
    "display(E_cna.head(2))\n",
    "\n",
    "G_cna = nx.from_pandas_edgelist(E_cna)\n",
    "G_cna.name = 'cna'\n",
    "print(G_cna)"
   ]
  },
  {
   "cell_type": "markdown",
   "id": "59b411e7-e3b0-4203-b406-c71a325c60ea",
   "metadata": {},
   "source": [
    "# Initialize the Keeper"
   ]
  },
  {
   "cell_type": "markdown",
   "id": "0da843e7-6ff0-48d1-b314-0fe4302ebce8",
   "metadata": {},
   "source": [
    "The `Keeper` can be instatiated with or without `outdir` - an output directory:"
   ]
  },
  {
   "cell_type": "code",
   "execution_count": 11,
   "id": "0080e6eb-fde2-428e-a41a-7287226738d5",
   "metadata": {},
   "outputs": [],
   "source": [
    "# uncomment to initialize Keeper with no output directory:\n",
    "# keeper = nf.Keeper() \n",
    "\n",
    "# initializing Keeper with output directory:\n",
    "keeper = nf.Keeper(outdir=OUT_DIR)"
   ]
  },
  {
   "cell_type": "markdown",
   "id": "6a94962e-7fed-461f-8615-42502858442c",
   "metadata": {},
   "source": [
    "See the documentation for more details on initializing the `Keeper`."
   ]
  },
  {
   "cell_type": "markdown",
   "id": "1b11a735-4ae6-4cb0-9ea4-ca47c1c46a88",
   "metadata": {},
   "source": [
    "# Load data into the Keeper"
   ]
  },
  {
   "cell_type": "markdown",
   "id": "d5b76557-8cda-421d-814c-a82e95c8ade1",
   "metadata": {},
   "source": [
    "Currently, data is expected to be either in the form of a `numpy.ndarray` or `pandas.DataFrame`, or saved in a file that is loadable via `pandas.read_csv`, with observations as columns and features as rows."
   ]
  },
  {
   "cell_type": "markdown",
   "id": "9f8269bf-d515-4825-ba96-b39e3af464ee",
   "metadata": {},
   "source": [
    "Data can be loaded into the Keeper in two ways: \n",
    "    i. From a `numpy.ndarray` or `pandas.DataFrame` or\n",
    "    ii. Directly from a file that is loadable via `pandas.read_csv`\n",
    "    \n",
    "Note: Future releases will handle various file types."
   ]
  },
  {
   "cell_type": "markdown",
   "id": "d8d55353-506e-4c12-a357-98d26c42477d",
   "metadata": {},
   "source": [
    "We add the data to `keeper` and provide a reference label, e.g., `'rna'`, to be able to refer to this particular data:"
   ]
  },
  {
   "cell_type": "code",
   "execution_count": 12,
   "id": "16e7e1c0-cef1-4e9b-8753-a9a6d8dc19e0",
   "metadata": {},
   "outputs": [],
   "source": [
    "keeper.add_data(rna, 'rna')"
   ]
  },
  {
   "cell_type": "markdown",
   "id": "66c3ef22-1f19-488e-80ad-d7939811f2ac",
   "metadata": {},
   "source": [
    "The first time data is loaded into `keeper`, it sets the observation labels that must be consistent with any other feature data set, pairwise-observation distances data and pairwise-observation similarities data that will be added to `keeper` here on out. \n",
    "\n",
    "If instead the feature data was provided as a `numpy.ndarray`, observation labels default to `'X0', 'X1', ...`."
   ]
  },
  {
   "cell_type": "markdown",
   "id": "b1e63160-aa04-4eb2-8038-a9762e0dca81",
   "metadata": {},
   "source": [
    "Within the `netflow` environment, this data can be specified by specifying the data set's reference label or __key__, e.g., `key='rna'`."
   ]
  },
  {
   "cell_type": "markdown",
   "id": "0cc37a55-9680-428b-a100-2af92b517dbd",
   "metadata": {},
   "source": [
    "We see that `keeper` has updated the observation labels:"
   ]
  },
  {
   "cell_type": "code",
   "execution_count": 13,
   "id": "1c0394f1-c592-427f-b8e3-2be0225d54ec",
   "metadata": {},
   "outputs": [],
   "source": [
    "# uncomment to print out all observation labels:\n",
    "# keeper.observation_labels"
   ]
  },
  {
   "cell_type": "markdown",
   "id": "1ba21fc9-424e-4134-b8c5-f3e7a18de786",
   "metadata": {},
   "source": [
    "We can also upload the cna data:"
   ]
  },
  {
   "cell_type": "code",
   "execution_count": 14,
   "id": "b9426401-2b0d-47ed-816f-46d37402cd0b",
   "metadata": {},
   "outputs": [],
   "source": [
    "keeper.add_data(cna, 'cna')"
   ]
  },
  {
   "cell_type": "markdown",
   "id": "a972207d-96c6-4996-8bbd-c0cf7022e710",
   "metadata": {},
   "source": [
    "Similarly, we can add the graphs associated with the RNA data:"
   ]
  },
  {
   "cell_type": "code",
   "execution_count": 15,
   "id": "1121df56-83c3-4db5-91e8-ffb8f10b58d7",
   "metadata": {},
   "outputs": [],
   "source": [
    "keeper.add_graph(G_rna, 'rna')"
   ]
  },
  {
   "cell_type": "markdown",
   "id": "1b16cee1-b69c-4ee3-a803-d43487cab2cd",
   "metadata": {},
   "source": [
    "If we had pairwise-observation distances or similarities, we could add them to `keeper` in the same manner using the methods:\n",
    "\n",
    "- `keeper.add_distance()`\n",
    "- `keeper.add_similarity()`"
   ]
  },
  {
   "cell_type": "markdown",
   "id": "4e0e1ce1-b347-4d75-b4c3-06678b04d116",
   "metadata": {},
   "source": [
    "Suppose we had some miscellaneous data, for example a list of genes of interest, that we wanted to store in the `Keeper`, this could be done as follows:"
   ]
  },
  {
   "cell_type": "code",
   "execution_count": 16,
   "id": "3d9d7628-38c3-4d84-8a2d-69e4ac16474d",
   "metadata": {},
   "outputs": [],
   "source": [
    "gene_list = ['SLC3A1', 'TIMM13', 'STYX', 'MUC6', 'TIMM17B', 'TNFSF18', 'TOMM7', 'TOMM40',\n",
    "             'TRAPPC2L', 'AZU1', 'TUBB1', 'XCR1', 'VPS33B', 'XCL2', 'KNTC1']"
   ]
  },
  {
   "cell_type": "code",
   "execution_count": 17,
   "id": "bcd26798-7545-4998-a1b2-26b4bcdcdc46",
   "metadata": {},
   "outputs": [],
   "source": [
    "keeper.add_misc(gene_list, 'my_gene_list')"
   ]
  },
  {
   "cell_type": "markdown",
   "id": "9739e8b7-1e32-4478-9579-3f792f709b8d",
   "metadata": {},
   "source": [
    "# Load data into keeper at time of instatiation"
   ]
  },
  {
   "cell_type": "markdown",
   "id": "699e2e08-56ab-485b-8e40-70adc0ed3740",
   "metadata": {},
   "source": [
    "Alternatively, you can specify any data, distances, similarities, graphs, or miscelaneous data to be loaded into the `Keeper` at the same time as it's initialized. For example, we initialize the `Keeper` and load the RNA and CNA feature data and their associated graphs in one call:"
   ]
  },
  {
   "cell_type": "code",
   "execution_count": 18,
   "id": "fca2670c-2876-42cc-b006-58e25da170b9",
   "metadata": {},
   "outputs": [],
   "source": [
    "keeper = nf.Keeper(data={'rna': rna, 'cna': cna}, graphs={'rna': G_rna, 'cna': G_cna})"
   ]
  },
  {
   "cell_type": "markdown",
   "id": "c95b25de-db7b-4c67-a0ff-c4b77f235beb",
   "metadata": {},
   "source": [
    "See the documentation on additional options for initializing and loading data into a `Keeper`."
   ]
  },
  {
   "cell_type": "markdown",
   "id": "f8da35b0-cacd-4d5b-9312-b5f85477b9ef",
   "metadata": {},
   "source": [
    "# Load data into Keeper from file"
   ]
  },
  {
   "cell_type": "markdown",
   "id": "c0d7a23d-3234-42af-8980-3d1fdb8ce30a",
   "metadata": {},
   "source": [
    "Alternatively, we can load data, distances, similarities, and graphs directly from a file. \n",
    "\n",
    "Currently, file formats that can be loaded by `pandas.read_csv` are accepted. Future releases will offer additional file types."
   ]
  },
  {
   "cell_type": "markdown",
   "id": "b6202dc6-814f-4ddd-9b19-3be602df10cf",
   "metadata": {},
   "source": [
    "We start by initializing a `Keeper` and then load the RNA and CNA data from file. The argument `label` is used to specify how the data is referenced in the `Keeper`."
   ]
  },
  {
   "cell_type": "code",
   "execution_count": 19,
   "id": "7d1cba30-793c-46f7-93c4-5879a7cb389f",
   "metadata": {},
   "outputs": [],
   "source": [
    "keeper = nf.Keeper(outdir=OUT_DIR)"
   ]
  },
  {
   "cell_type": "code",
   "execution_count": 20,
   "id": "fcc24f80-ba13-4ca8-acb5-00e5749ed98e",
   "metadata": {},
   "outputs": [],
   "source": [
    "# Add RNA and CNA feature data:\n",
    "keeper.load_data(RNA_FNAME, label='rna', header=0, index_col=0) \n",
    "keeper.load_data(CNA_FNAME, label='cna', header=0, index_col=0, dtype=float)\n",
    "\n",
    "# uncomment to add methylation feature data:\n",
    "# keeper.load_data(METH_FNAME, label='meth', header=0, index_col=0)"
   ]
  },
  {
   "cell_type": "markdown",
   "id": "1f457107-a871-431c-a4f8-840661a2cb5b",
   "metadata": {},
   "source": [
    "We next add the graphs associated with RNA and CNA. (See the documentation for more details and the expected edgelist format.)"
   ]
  },
  {
   "cell_type": "code",
   "execution_count": 21,
   "id": "2b9f02e3-b909-4f14-8ae2-a67d0680499c",
   "metadata": {},
   "outputs": [],
   "source": [
    "keeper.load_graph(E_RNA_FNAME, label='rna')\n",
    "keeper.load_graph(E_CNA_FNAME, label='cna')\n",
    "\n",
    "# uncomment to add methylation graph:\n",
    "# keeper.load_graph(E_METH_FNAME, label='meth')"
   ]
  },
  {
   "cell_type": "markdown",
   "id": "0bc80f99-dcfd-4bec-a6be-12a5a8f72a4d",
   "metadata": {},
   "source": [
    "Similarities and distances can be loaded from file into the `Keeper` in the same manner via:\n",
    "\n",
    "- `keeper.load_distance()` or `keeper.load_stacked_distance()`\n",
    "- `keeper.load_similarity()` or `keeper.load_stacked_similarity()`\n",
    "\n",
    "See the documentaion for more details."
   ]
  },
  {
   "cell_type": "markdown",
   "id": "c7d045d2-1c27-4c7d-8e13-cda954609370",
   "metadata": {},
   "source": [
    "# Extract data from the Keeper"
   ]
  },
  {
   "cell_type": "markdown",
   "id": "678959b0-07f4-4256-9d59-f36b0e502d16",
   "metadata": {},
   "source": [
    "We can extract the data in the form of a `pandas.DataFrame` as follows:"
   ]
  },
  {
   "cell_type": "code",
   "execution_count": 22,
   "id": "0f66e5f6-70f9-45bc-815b-42be742da2e4",
   "metadata": {},
   "outputs": [
    {
     "data": {
      "text/html": [
       "<div>\n",
       "<style scoped>\n",
       "    .dataframe tbody tr th:only-of-type {\n",
       "        vertical-align: middle;\n",
       "    }\n",
       "\n",
       "    .dataframe tbody tr th {\n",
       "        vertical-align: top;\n",
       "    }\n",
       "\n",
       "    .dataframe thead th {\n",
       "        text-align: right;\n",
       "    }\n",
       "</style>\n",
       "<table border=\"1\" class=\"dataframe\">\n",
       "  <thead>\n",
       "    <tr style=\"text-align: right;\">\n",
       "      <th></th>\n",
       "      <th>TCGA-E9-A295-01</th>\n",
       "      <th>TCGA-AR-A1AS-01</th>\n",
       "      <th>TCGA-AQ-A1H2-01</th>\n",
       "      <th>TCGA-A8-A08O-01</th>\n",
       "      <th>TCGA-BH-A1FJ-01</th>\n",
       "      <th>TCGA-JL-A3YX-01</th>\n",
       "      <th>TCGA-A7-A425-01</th>\n",
       "      <th>TCGA-AC-A2BM-01</th>\n",
       "      <th>TCGA-LL-A6FP-01</th>\n",
       "      <th>TCGA-A7-A26E-01</th>\n",
       "      <th>...</th>\n",
       "      <th>TCGA-A2-A1G0-01</th>\n",
       "      <th>TCGA-WT-AB41-01</th>\n",
       "      <th>TCGA-EW-A1P6-01</th>\n",
       "      <th>TCGA-XX-A89A-01</th>\n",
       "      <th>TCGA-A7-A4SD-01</th>\n",
       "      <th>TCGA-AC-A6IX-01</th>\n",
       "      <th>TCGA-AR-A24L-01</th>\n",
       "      <th>TCGA-BH-A42U-01</th>\n",
       "      <th>TCGA-AR-A24S-01</th>\n",
       "      <th>TCGA-BH-A0BC-01</th>\n",
       "    </tr>\n",
       "  </thead>\n",
       "  <tbody>\n",
       "    <tr>\n",
       "      <th>ABCB8</th>\n",
       "      <td>910.2982</td>\n",
       "      <td>624.0432</td>\n",
       "      <td>422.2278</td>\n",
       "      <td>659.3773</td>\n",
       "      <td>836.3215</td>\n",
       "      <td>1202.2298</td>\n",
       "      <td>1264.0832</td>\n",
       "      <td>759.0133</td>\n",
       "      <td>2768.8172</td>\n",
       "      <td>560.3929</td>\n",
       "      <td>...</td>\n",
       "      <td>840.2367</td>\n",
       "      <td>1074.9211</td>\n",
       "      <td>769.4139</td>\n",
       "      <td>922.0595</td>\n",
       "      <td>597.0149</td>\n",
       "      <td>863.0025</td>\n",
       "      <td>451.0316</td>\n",
       "      <td>795.7087</td>\n",
       "      <td>606.1712</td>\n",
       "      <td>950.1840</td>\n",
       "    </tr>\n",
       "    <tr>\n",
       "      <th>SAT1</th>\n",
       "      <td>2727.0313</td>\n",
       "      <td>2731.2022</td>\n",
       "      <td>3701.4551</td>\n",
       "      <td>2259.7105</td>\n",
       "      <td>3085.1455</td>\n",
       "      <td>3915.4537</td>\n",
       "      <td>3230.3552</td>\n",
       "      <td>2042.0907</td>\n",
       "      <td>3258.4005</td>\n",
       "      <td>4837.8020</td>\n",
       "      <td>...</td>\n",
       "      <td>1728.7968</td>\n",
       "      <td>6252.3659</td>\n",
       "      <td>2843.2332</td>\n",
       "      <td>7392.0642</td>\n",
       "      <td>3602.4876</td>\n",
       "      <td>3878.9536</td>\n",
       "      <td>2552.8859</td>\n",
       "      <td>5193.3684</td>\n",
       "      <td>5891.7026</td>\n",
       "      <td>3594.8176</td>\n",
       "    </tr>\n",
       "    <tr>\n",
       "      <th>ABCF3</th>\n",
       "      <td>1310.1533</td>\n",
       "      <td>1381.3597</td>\n",
       "      <td>1413.9488</td>\n",
       "      <td>1078.8295</td>\n",
       "      <td>992.8420</td>\n",
       "      <td>1273.1496</td>\n",
       "      <td>1344.0976</td>\n",
       "      <td>1256.8570</td>\n",
       "      <td>2183.8038</td>\n",
       "      <td>1067.4277</td>\n",
       "      <td>...</td>\n",
       "      <td>1055.8843</td>\n",
       "      <td>2185.3312</td>\n",
       "      <td>1145.1250</td>\n",
       "      <td>1031.6486</td>\n",
       "      <td>1705.9701</td>\n",
       "      <td>1292.1338</td>\n",
       "      <td>924.5234</td>\n",
       "      <td>1223.4741</td>\n",
       "      <td>1003.6413</td>\n",
       "      <td>1278.0836</td>\n",
       "    </tr>\n",
       "  </tbody>\n",
       "</table>\n",
       "<p>3 rows × 606 columns</p>\n",
       "</div>"
      ],
      "text/plain": [
       "       TCGA-E9-A295-01  TCGA-AR-A1AS-01  TCGA-AQ-A1H2-01  TCGA-A8-A08O-01  \\\n",
       "ABCB8         910.2982         624.0432         422.2278         659.3773   \n",
       "SAT1         2727.0313        2731.2022        3701.4551        2259.7105   \n",
       "ABCF3        1310.1533        1381.3597        1413.9488        1078.8295   \n",
       "\n",
       "       TCGA-BH-A1FJ-01  TCGA-JL-A3YX-01  TCGA-A7-A425-01  TCGA-AC-A2BM-01  \\\n",
       "ABCB8         836.3215        1202.2298        1264.0832         759.0133   \n",
       "SAT1         3085.1455        3915.4537        3230.3552        2042.0907   \n",
       "ABCF3         992.8420        1273.1496        1344.0976        1256.8570   \n",
       "\n",
       "       TCGA-LL-A6FP-01  TCGA-A7-A26E-01  ...  TCGA-A2-A1G0-01  \\\n",
       "ABCB8        2768.8172         560.3929  ...         840.2367   \n",
       "SAT1         3258.4005        4837.8020  ...        1728.7968   \n",
       "ABCF3        2183.8038        1067.4277  ...        1055.8843   \n",
       "\n",
       "       TCGA-WT-AB41-01  TCGA-EW-A1P6-01  TCGA-XX-A89A-01  TCGA-A7-A4SD-01  \\\n",
       "ABCB8        1074.9211         769.4139         922.0595         597.0149   \n",
       "SAT1         6252.3659        2843.2332        7392.0642        3602.4876   \n",
       "ABCF3        2185.3312        1145.1250        1031.6486        1705.9701   \n",
       "\n",
       "       TCGA-AC-A6IX-01  TCGA-AR-A24L-01  TCGA-BH-A42U-01  TCGA-AR-A24S-01  \\\n",
       "ABCB8         863.0025         451.0316         795.7087         606.1712   \n",
       "SAT1         3878.9536        2552.8859        5193.3684        5891.7026   \n",
       "ABCF3        1292.1338         924.5234        1223.4741        1003.6413   \n",
       "\n",
       "       TCGA-BH-A0BC-01  \n",
       "ABCB8         950.1840  \n",
       "SAT1         3594.8176  \n",
       "ABCF3        1278.0836  \n",
       "\n",
       "[3 rows x 606 columns]"
      ]
     },
     "execution_count": 22,
     "metadata": {},
     "output_type": "execute_result"
    }
   ],
   "source": [
    "df = keeper.data['rna'].to_frame()\n",
    "df.head(3)"
   ]
  },
  {
   "cell_type": "markdown",
   "id": "5776200b-d7ae-4e94-8727-86f222d74f15",
   "metadata": {},
   "source": [
    "Similarly, this can be done for any key in the distance or similarity keeper in the form:\n",
    "\n",
    "- `keeper.distances[key].to_frame()`\n",
    "- `keeper.similarities[key].to_frame()`"
   ]
  },
  {
   "cell_type": "markdown",
   "id": "3c2b4587-2e5d-4aaf-b166-dce5f658fb22",
   "metadata": {},
   "source": [
    "Next, we demonstrate how to get a graph that has been stored in `keeper`, keyed by its reference label:"
   ]
  },
  {
   "cell_type": "code",
   "execution_count": 23,
   "id": "fd606ad3-a2b5-4de6-8012-d121a9dc959a",
   "metadata": {},
   "outputs": [
    {
     "name": "stdout",
     "output_type": "stream",
     "text": [
      "Graph named 'rna' with 7148 nodes and 27498 edges\n"
     ]
    }
   ],
   "source": [
    "G = keeper.graphs['rna']\n",
    "print(G)"
   ]
  },
  {
   "cell_type": "markdown",
   "id": "6f543cad-6c03-456d-8e0d-c82b0ae0c7c2",
   "metadata": {},
   "source": [
    "Similarly, we can access miscellaneous data stored in `keeper`:"
   ]
  },
  {
   "cell_type": "code",
   "execution_count": 24,
   "id": "10056e4a-d87e-468c-a4bd-4c34d243e4dd",
   "metadata": {},
   "outputs": [],
   "source": [
    "# first we add the gene list to the keeper:\n",
    "keeper.add_misc(gene_list, 'my_gene_list')"
   ]
  },
  {
   "cell_type": "code",
   "execution_count": 25,
   "id": "f0aa7c4e-9565-406a-b2ae-55c2f00ec72b",
   "metadata": {},
   "outputs": [
    {
     "data": {
      "text/plain": [
       "['SLC3A1',\n",
       " 'TIMM13',\n",
       " 'STYX',\n",
       " 'MUC6',\n",
       " 'TIMM17B',\n",
       " 'TNFSF18',\n",
       " 'TOMM7',\n",
       " 'TOMM40',\n",
       " 'TRAPPC2L',\n",
       " 'AZU1',\n",
       " 'TUBB1',\n",
       " 'XCR1',\n",
       " 'VPS33B',\n",
       " 'XCL2',\n",
       " 'KNTC1']"
      ]
     },
     "execution_count": 25,
     "metadata": {},
     "output_type": "execute_result"
    }
   ],
   "source": [
    "# and to access the gene list:\n",
    "keeper.misc['my_gene_list']"
   ]
  },
  {
   "cell_type": "markdown",
   "id": "0267e63e-d8cb-4e9b-80f7-c2caf8359256",
   "metadata": {},
   "source": [
    "# Save data from the Keeper"
   ]
  },
  {
   "cell_type": "markdown",
   "id": "ef6d8481-1e34-45c9-9bdd-ef0b5bc0ebc8",
   "metadata": {},
   "source": [
    "Data can be saved from:\n",
    "- `keeper.data` via `keeper.save_data()`\n",
    "- `keeper.distances` via `keeper.save_distance()`\n",
    "- `keeper.similarities` via `keeper.save_similarity()`\n",
    "- `keeper.misc` (if it is a `pandas.DataFrame`) via `keeper.save_misc()`\n",
    "\n",
    "Currently, it is saved using `pandas.to_csv`. Future releases will provide additional formats for saving data.\n",
    "\n",
    "In order to save data, `keeper` must have the attribute `outdir` defined.\n",
    "\n",
    "The data is then saved to a file named `{outdir}/{data_type}_{label}.{file_format}` where\n",
    "- `outdir` : The keeper's output directory: `keeper.outdir`.\n",
    "- `data_type` : This is one of {'data', 'distance', 'similarity', 'misc'}, depending on which method is called to save the data.\n",
    "- `label` : This is reference label for the data in the keeper that should be saved, specified by the user.\n",
    "- `file_format` This is the file extension, provided by the user (default = 'txt'). \n",
    "\n",
    "See the documentation for more details."
   ]
  },
  {
   "cell_type": "markdown",
   "id": "a684af72-2255-43f5-a914-4078816d8d96",
   "metadata": {},
   "source": [
    "For example, to save the RNA data to the specified output directory, you would call:\n",
    "\n",
    "`keeper.save_data('rna')`"
   ]
  },
  {
   "cell_type": "markdown",
   "id": "0b95c008-b5ec-4fc0-88fd-e3f47b5a53d0",
   "metadata": {},
   "source": [
    "# Extract Keeper subset"
   ]
  },
  {
   "cell_type": "markdown",
   "id": "e1c81b89-db70-46ab-9b57-909722729e2d",
   "metadata": {},
   "source": [
    "You can a new `Keeper` instance with a subset of the observations from the `keeper`. \n",
    "\n",
    "Caution should be taken for the resulting `misc` and `graphs` keepers, as they are maintained independent of the observations. You can select if the misc and graphs should be copied into the the new subset Keeper, as is.  "
   ]
  },
  {
   "cell_type": "markdown",
   "id": "10a3dd7b-eee3-4c87-affd-43f80c95e29a",
   "metadata": {},
   "source": [
    "You can also specify the output directory `outdir` for the new keeper subset. Default is `None`."
   ]
  },
  {
   "cell_type": "markdown",
   "id": "5c981723-0bf0-4a1e-93c3-0ef4ee8810af",
   "metadata": {},
   "source": [
    "For example, we can extract a subset of `keeper` with the first 3 observations, using `keep_misc=True` and `keep_graphs=True` to keep a copy of miscellaneous data and the graphs. Additionally, we use `outdir` to specify the output directory we want for this subset of observations"
   ]
  },
  {
   "cell_type": "code",
   "execution_count": 26,
   "id": "22c609c6-158d-4120-ab56-72a12841347c",
   "metadata": {},
   "outputs": [
    {
     "data": {
      "text/html": [
       "<pre style=\"white-space:pre;overflow-x:auto;line-height:normal;font-family:Menlo,'DejaVu Sans Mono',consolas,'Courier New',monospace\">netflow.keepers.keeper: <span style=\"color: #008080; text-decoration-color: #008080; font-weight: bold\">07</span>/<span style=\"color: #008080; text-decoration-color: #008080; font-weight: bold\">24</span>/<span style=\"color: #008080; text-decoration-color: #008080; font-weight: bold\">2025</span> <span style=\"color: #00ff00; text-decoration-color: #00ff00; font-weight: bold\">11:54:22</span>  AM | <span style=\"color: #808000; text-decoration-color: #808000; font-weight: bold\">MSG</span> | keeper:__init__:<span style=\"color: #008080; text-decoration-color: #008080; font-weight: bold\">1157</span> | &gt;&gt;&gt; Created directory               \n",
       "<span style=\"color: #800080; text-decoration-color: #800080\">/Users/renae12/Documents/MSKCC/dev/netflow/docs/source/tutorial/notebooks/example_data/</span><span style=\"color: #ff00ff; text-decoration-color: #ff00ff\">results_netflow_breast_tcga_</span>\n",
       "<span style=\"color: #ff00ff; text-decoration-color: #ff00ff\">sub.</span>                                                                                                               \n",
       "</pre>\n"
      ],
      "text/plain": [
       "netflow.keepers.keeper: \u001b[1;36m07\u001b[0m/\u001b[1;36m24\u001b[0m/\u001b[1;36m2025\u001b[0m \u001b[1;92m11:54:22\u001b[0m  AM | \u001b[1;33mMSG\u001b[0m | keeper:__init__:\u001b[1;36m1157\u001b[0m | >>> Created directory               \n",
       "\u001b[35m/Users/renae12/Documents/MSKCC/dev/netflow/docs/source/tutorial/notebooks/example_data/\u001b[0m\u001b[95mresults_netflow_breast_tcga_\u001b[0m\n",
       "\u001b[95msub.\u001b[0m                                                                                                               \n"
      ]
     },
     "metadata": {},
     "output_type": "display_data"
    }
   ],
   "source": [
    "outdir_sub = OUT_DIR.parent / (OUT_DIR.name + '_sub')\n",
    "\n",
    "keeper_sub = keeper.subset(keeper.observation_labels[:10], \n",
    "                           keep_misc=True, keep_graphs=True,\n",
    "                           outdir=outdir_sub)"
   ]
  },
  {
   "cell_type": "markdown",
   "id": "f2647b81-169e-4d02-b534-fb93b0a000b3",
   "metadata": {},
   "source": [
    "# Extract data subset"
   ]
  },
  {
   "cell_type": "markdown",
   "id": "208a94da-0f7d-4a36-9993-c62960e00672",
   "metadata": {},
   "source": [
    "You can extract a subset of observations and features for any data stored in the data-keeper as a `pandas.DataFrame`: "
   ]
  },
  {
   "cell_type": "code",
   "execution_count": 27,
   "id": "9fdc0eef-7fb0-42f3-aa0f-145c2b5974f3",
   "metadata": {},
   "outputs": [
    {
     "data": {
      "text/html": [
       "<div>\n",
       "<style scoped>\n",
       "    .dataframe tbody tr th:only-of-type {\n",
       "        vertical-align: middle;\n",
       "    }\n",
       "\n",
       "    .dataframe tbody tr th {\n",
       "        vertical-align: top;\n",
       "    }\n",
       "\n",
       "    .dataframe thead th {\n",
       "        text-align: right;\n",
       "    }\n",
       "</style>\n",
       "<table border=\"1\" class=\"dataframe\">\n",
       "  <thead>\n",
       "    <tr style=\"text-align: right;\">\n",
       "      <th></th>\n",
       "      <th>TCGA-E9-A295-01</th>\n",
       "      <th>TCGA-AR-A1AS-01</th>\n",
       "      <th>TCGA-AQ-A1H2-01</th>\n",
       "    </tr>\n",
       "  </thead>\n",
       "  <tbody>\n",
       "    <tr>\n",
       "      <th>SLC3A1</th>\n",
       "      <td>4.8292</td>\n",
       "      <td>0.0000</td>\n",
       "      <td>3.1360</td>\n",
       "    </tr>\n",
       "    <tr>\n",
       "      <th>TIMM13</th>\n",
       "      <td>1078.3533</td>\n",
       "      <td>992.7960</td>\n",
       "      <td>708.2288</td>\n",
       "    </tr>\n",
       "    <tr>\n",
       "      <th>STYX</th>\n",
       "      <td>829.6511</td>\n",
       "      <td>542.0982</td>\n",
       "      <td>403.1611</td>\n",
       "    </tr>\n",
       "    <tr>\n",
       "      <th>MUC6</th>\n",
       "      <td>1.4488</td>\n",
       "      <td>130.1216</td>\n",
       "      <td>0.0000</td>\n",
       "    </tr>\n",
       "    <tr>\n",
       "      <th>TIMM17B</th>\n",
       "      <td>827.7194</td>\n",
       "      <td>573.1652</td>\n",
       "      <td>739.5886</td>\n",
       "    </tr>\n",
       "  </tbody>\n",
       "</table>\n",
       "</div>"
      ],
      "text/plain": [
       "         TCGA-E9-A295-01  TCGA-AR-A1AS-01  TCGA-AQ-A1H2-01\n",
       "SLC3A1            4.8292           0.0000           3.1360\n",
       "TIMM13         1078.3533         992.7960         708.2288\n",
       "STYX            829.6511         542.0982         403.1611\n",
       "MUC6              1.4488         130.1216           0.0000\n",
       "TIMM17B         827.7194         573.1652         739.5886"
      ]
     },
     "execution_count": 27,
     "metadata": {},
     "output_type": "execute_result"
    }
   ],
   "source": [
    "rna_sub = keeper.data['rna'].subset(observations=keeper.observation_labels[:3],\n",
    "                                    features=gene_list[:5])\n",
    "rna_sub"
   ]
  },
  {
   "cell_type": "markdown",
   "id": "cbfe4fc7-1d87-46f2-890d-8af4ff67ab09",
   "metadata": {},
   "source": [
    "Similarly, you can extract distances (or similarities) between a subset of observations as a `pandas.DataFrame`. We'll first add a distance to the keeper to demonstrate this:"
   ]
  },
  {
   "cell_type": "code",
   "execution_count": 28,
   "id": "f528e789-f0ea-42f4-a269-613aa65f227d",
   "metadata": {},
   "outputs": [],
   "source": [
    "from scipy.spatial.distance import cdist"
   ]
  },
  {
   "cell_type": "code",
   "execution_count": 29,
   "id": "f591ae3e-0516-49f6-b714-e96af73c93b3",
   "metadata": {},
   "outputs": [],
   "source": [
    "rna_euc = pd.DataFrame(data=cdist(rna.T, rna.T, metric='euclidean'),\n",
    "                       index=rna.columns.copy(), columns=rna.columns.copy())\n",
    "keeper.add_distance(rna_euc, 'rna_euc')"
   ]
  },
  {
   "cell_type": "code",
   "execution_count": 30,
   "id": "0043238d-7957-4f67-aa7e-bc504f061fc1",
   "metadata": {},
   "outputs": [
    {
     "data": {
      "text/html": [
       "<div>\n",
       "<style scoped>\n",
       "    .dataframe tbody tr th:only-of-type {\n",
       "        vertical-align: middle;\n",
       "    }\n",
       "\n",
       "    .dataframe tbody tr th {\n",
       "        vertical-align: top;\n",
       "    }\n",
       "\n",
       "    .dataframe thead th {\n",
       "        text-align: right;\n",
       "    }\n",
       "</style>\n",
       "<table border=\"1\" class=\"dataframe\">\n",
       "  <thead>\n",
       "    <tr style=\"text-align: right;\">\n",
       "      <th></th>\n",
       "      <th>TCGA-E9-A295-01</th>\n",
       "      <th>TCGA-AR-A1AS-01</th>\n",
       "      <th>TCGA-AQ-A1H2-01</th>\n",
       "    </tr>\n",
       "  </thead>\n",
       "  <tbody>\n",
       "    <tr>\n",
       "      <th>TCGA-E9-A295-01</th>\n",
       "      <td>0.000000</td>\n",
       "      <td>351149.925916</td>\n",
       "      <td>392258.653370</td>\n",
       "    </tr>\n",
       "    <tr>\n",
       "      <th>TCGA-AR-A1AS-01</th>\n",
       "      <td>351149.925916</td>\n",
       "      <td>0.000000</td>\n",
       "      <td>382107.888105</td>\n",
       "    </tr>\n",
       "    <tr>\n",
       "      <th>TCGA-AQ-A1H2-01</th>\n",
       "      <td>392258.653370</td>\n",
       "      <td>382107.888105</td>\n",
       "      <td>0.000000</td>\n",
       "    </tr>\n",
       "  </tbody>\n",
       "</table>\n",
       "</div>"
      ],
      "text/plain": [
       "                 TCGA-E9-A295-01  TCGA-AR-A1AS-01  TCGA-AQ-A1H2-01\n",
       "TCGA-E9-A295-01         0.000000    351149.925916    392258.653370\n",
       "TCGA-AR-A1AS-01    351149.925916         0.000000    382107.888105\n",
       "TCGA-AQ-A1H2-01    392258.653370    382107.888105         0.000000"
      ]
     },
     "execution_count": 30,
     "metadata": {},
     "output_type": "execute_result"
    }
   ],
   "source": [
    "keeper.distances['rna_euc'].subset(keeper.observation_labels[:3])"
   ]
  },
  {
   "cell_type": "markdown",
   "id": "3be8f825-b8b3-46ba-b222-c56c642492e5",
   "metadata": {},
   "source": [
    "The same can be done for a similarity stored in `keeper` using `keeper.similarities` in place of `keeper.distances`."
   ]
  },
  {
   "cell_type": "markdown",
   "id": "23934660-d2ad-4c64-839c-c87f98668f57",
   "metadata": {},
   "source": [
    "# Iterating through feature data, distances or similarities"
   ]
  },
  {
   "cell_type": "markdown",
   "id": "736aeafa-22ad-4f35-8974-db619244bf4d",
   "metadata": {},
   "source": [
    "Before demonstrating how to iterate through the data, we review some of the `Keeper` class properties in a bit more detail: \n",
    "\n",
    "When we instatiate a `Keeper` object: `keeper = netflow.Keeper()`, \n",
    "the `keeper` is initialized with an instance of the `DataKeeper` class assigned as `keeper.data` and two instances of the `DistanceKeeper` class assigned as `keeper.distances` and `keeper.similarities`. Data is added to the `DataKeeper` and `DistanceKeeper` with a reference key which may then be accessed in the same manner as retrieving a value from a `dict`. However, the `DataKeeper` and `DistanceKeeper` maintain a bit more information than just the data itself to regulate observation (and feature) properties. Therefore, keyed-accessing data from `DataKeeper` or `DistanceKeeper` returns an instance of `DataView` or `DistanceView`, respectively (instead of the original input data). \n",
    "\n",
    "For example: `x = keeper.data['rna']`   \n",
    "Here, `x` is an instance of the `DataView` class.   \n",
    "The RNA data itself (as a `numpy.ndarray`) can be accessed via `x.data`.    \n",
    "And previously, we demonstrated how to extract the data as a `pandas.DataFrame`: `x.to_frame()`. (The `.to_frame()` property is actually a method of the `DataView` (and `DistanceView`) class.)\n",
    "\n",
    "You can iterate over the data stored in a `DataKeeper` and `DistanceKeeper`, which yields an instance of `DataView` and `DistanceView`, repectively, at each iteration.\n",
    "\n",
    "Therefore, you can iterate over the feature data, distances and similarities. The process is the same for each type of store data, so we demonstrate this on the feature data."
   ]
  },
  {
   "cell_type": "markdown",
   "id": "a488697e-c857-44ce-b241-81486b668e30",
   "metadata": {},
   "source": [
    "Here we iterate through all the feature data and print the keyed-label:"
   ]
  },
  {
   "cell_type": "code",
   "execution_count": 31,
   "id": "8e05d2dc-62c1-4539-ad9c-539ccb511794",
   "metadata": {},
   "outputs": [
    {
     "name": "stdout",
     "output_type": "stream",
     "text": [
      "rna\n",
      "cna\n"
     ]
    }
   ],
   "source": [
    "for dd in keeper.data:\n",
    "    print(dd.label)"
   ]
  },
  {
   "cell_type": "markdown",
   "id": "92d3a6cc-e4fa-49ee-8fa2-ef4c3f7f6c8c",
   "metadata": {},
   "source": [
    "Here we iterate through all the feature data and print out the number of features:"
   ]
  },
  {
   "cell_type": "code",
   "execution_count": 32,
   "id": "06eeded4-43f6-4dd6-a20d-c7161c567a9a",
   "metadata": {},
   "outputs": [
    {
     "name": "stdout",
     "output_type": "stream",
     "text": [
      "7148\n",
      "8763\n"
     ]
    }
   ],
   "source": [
    "for dd in keeper.data:\n",
    "    print(dd.num_features)"
   ]
  },
  {
   "cell_type": "markdown",
   "id": "64c6a9cf-d2d3-4dbd-911d-a1a9d2ed8092",
   "metadata": {},
   "source": [
    "Here we iterate through all the feature data and print out the first 4 feature labels:"
   ]
  },
  {
   "cell_type": "code",
   "execution_count": 33,
   "id": "4e8e77f5-9fed-4c8c-943d-56dac1c287fa",
   "metadata": {},
   "outputs": [
    {
     "name": "stdout",
     "output_type": "stream",
     "text": [
      "['ABCB8', 'SAT1', 'ABCF3', 'ARF1']\n",
      "['ABCB8', 'SAT1', 'ABCF3', 'ARF1']\n"
     ]
    }
   ],
   "source": [
    "for dd in keeper.data:\n",
    "    print(dd.feature_labels[:4])"
   ]
  },
  {
   "cell_type": "markdown",
   "id": "ad4bc0d1-f34d-4cee-9fb1-f80797b5c99f",
   "metadata": {},
   "source": [
    "Here we iterate through all the feature data and print out the stored data for the first 3 observations and first 4 features:"
   ]
  },
  {
   "cell_type": "code",
   "execution_count": 34,
   "id": "fb105968-3232-49f5-a454-55937afd1687",
   "metadata": {},
   "outputs": [
    {
     "name": "stdout",
     "output_type": "stream",
     "text": [
      "[[  910.2982   624.0432   422.2278]\n",
      " [ 2727.0313  2731.2022  3701.4551]\n",
      " [ 1310.1533  1381.3597  1413.9488]\n",
      " [15602.5595 17668.1675 10149.0216]]\n",
      "[[2. 2. 1.]\n",
      " [2. 2. 1.]\n",
      " [2. 3. 2.]\n",
      " [3. 3. 2.]]\n"
     ]
    }
   ],
   "source": [
    "for dd in keeper.data:\n",
    "    print(dd.data[:4, :3])"
   ]
  },
  {
   "cell_type": "markdown",
   "id": "07bcfd2f-723d-440f-b438-fdf1cce18f3a",
   "metadata": {},
   "source": [
    "# Membership"
   ]
  },
  {
   "cell_type": "markdown",
   "id": "10c4a251-59ec-4bf9-bd6f-cfa31f4de008",
   "metadata": {},
   "source": [
    "You can check if data is in `keeper.data`, `keeper.distances`, or `keeper.similarities` by its key.\n",
    "\n",
    "For example, we next check if the RNA feature data is in `keeper.data`"
   ]
  },
  {
   "cell_type": "code",
   "execution_count": 35,
   "id": "f79041e6-fd58-48db-b8a7-4efd14158077",
   "metadata": {},
   "outputs": [
    {
     "data": {
      "text/plain": [
       "True"
      ]
     },
     "execution_count": 35,
     "metadata": {},
     "output_type": "execute_result"
    }
   ],
   "source": [
    "'rna' in keeper.data"
   ]
  }
 ],
 "metadata": {
  "kernelspec": {
   "display_name": "geo_env_test",
   "language": "python",
   "name": "geo_env_test"
  },
  "language_info": {
   "codemirror_mode": {
    "name": "ipython",
    "version": 3
   },
   "file_extension": ".py",
   "mimetype": "text/x-python",
   "name": "python",
   "nbconvert_exporter": "python",
   "pygments_lexer": "ipython3",
   "version": "3.9.0"
  }
 },
 "nbformat": 4,
 "nbformat_minor": 5
}
